{
  "nbformat": 4,
  "nbformat_minor": 0,
  "metadata": {
    "colab": {
      "name": "CH1 Basic Concept.ipynb",
      "provenance": [],
      "collapsed_sections": []
    },
    "kernelspec": {
      "name": "python3",
      "display_name": "Python 3"
    }
  },
  "cells": [
    {
      "cell_type": "code",
      "metadata": {
        "id": "ji-klrWSzin1"
      },
      "source": [
        "#@title print()\n"
      ],
      "execution_count": null,
      "outputs": []
    },
    {
      "cell_type": "code",
      "metadata": {
        "id": "NMdSri2aFPn0",
        "colab": {
          "base_uri": "https://localhost:8080/",
          "height": 35
        },
        "outputId": "03f131c6-52b1-4b52-c62e-a6a7b59f6470"
      },
      "source": [
        "# 1_1\n",
        "print('Hello! Python')"
      ],
      "execution_count": null,
      "outputs": [
        {
          "output_type": "stream",
          "text": [
            "Hello! Python\n"
          ],
          "name": "stdout"
        }
      ]
    },
    {
      "cell_type": "code",
      "metadata": {
        "id": "dzweivvbFW9C",
        "colab": {
          "base_uri": "https://localhost:8080/",
          "height": 35
        },
        "outputId": "f0050bc0-b84f-421f-809f-b0598ba05e93"
      },
      "source": [
        "# ch1_2.py\n",
        "print(\"Hello! Python\")   # 列印字串"
      ],
      "execution_count": null,
      "outputs": [
        {
          "output_type": "stream",
          "text": [
            "Hello! Python\n"
          ],
          "name": "stdout"
        }
      ]
    },
    {
      "cell_type": "code",
      "metadata": {
        "id": "T00MmNtpznVv"
      },
      "source": [
        "#@title Comment 註解\n"
      ],
      "execution_count": null,
      "outputs": []
    },
    {
      "cell_type": "code",
      "metadata": {
        "id": "lM7XCCr4Fcz4"
      },
      "source": [
        "# ch1_3.py\n",
        "'''\n",
        "程式實例\n",
        "使用三個單引號當作註解\n",
        "'''\n",
        "print(\"Hello! Python\")   # 列印字串\n"
      ],
      "execution_count": null,
      "outputs": []
    },
    {
      "cell_type": "code",
      "metadata": {
        "id": "y8Jxh-tDFfns"
      },
      "source": [
        "# ch1_4.py\n",
        "\"\"\"\n",
        "程式實例\n",
        "使用三個雙引號當作註解\n",
        "\"\"\"\n",
        "print(\"Hello! Python\")   # 列印字串"
      ],
      "execution_count": null,
      "outputs": []
    }
  ]
}